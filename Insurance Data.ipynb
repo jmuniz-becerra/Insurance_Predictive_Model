{
 "cells": [
  {
   "cell_type": "code",
   "execution_count": 5,
   "id": "ec6461a9",
   "metadata": {},
   "outputs": [],
   "source": [
    "# Importing of important libraries\n",
    "import os\n",
    "import numpy as np\n",
    "import pandas as pd\n",
    "import matplotlib.pyplot as plt\n",
    "%matplotlib inline"
   ]
  },
  {
   "cell_type": "code",
   "execution_count": 6,
   "id": "6fd16818",
   "metadata": {},
   "outputs": [],
   "source": [
    "# Finding location of file\n",
    "os.getcwd()\n",
    "os.chdir('/Users/jmunizbecerra/Desktop')"
   ]
  },
  {
   "cell_type": "code",
   "execution_count": 7,
   "id": "b89ef70a",
   "metadata": {},
   "outputs": [],
   "source": [
    "# Loading in insurance data and creating dataframe\n",
    "df = pd.read_csv('insurance.csv')"
   ]
  },
  {
   "cell_type": "code",
   "execution_count": 8,
   "id": "78dbb70c",
   "metadata": {},
   "outputs": [
    {
     "data": {
      "text/plain": [
       "(1338, 7)"
      ]
     },
     "execution_count": 8,
     "metadata": {},
     "output_type": "execute_result"
    }
   ],
   "source": [
    "# Analyzing size of dataframe\n",
    "df.shape"
   ]
  },
  {
   "cell_type": "code",
   "execution_count": 9,
   "id": "0a5e8823",
   "metadata": {},
   "outputs": [
    {
     "data": {
      "text/plain": [
       "age         0\n",
       "sex         0\n",
       "bmi         0\n",
       "children    0\n",
       "smoker      0\n",
       "region      0\n",
       "charges     0\n",
       "dtype: int64"
      ]
     },
     "execution_count": 9,
     "metadata": {},
     "output_type": "execute_result"
    }
   ],
   "source": [
    "# Checking for any missing values\n",
    "df.isna().sum()"
   ]
  },
  {
   "cell_type": "code",
   "execution_count": 10,
   "id": "172a140f",
   "metadata": {},
   "outputs": [
    {
     "data": {
      "text/plain": [
       "Index(['age', 'sex', 'bmi', 'children', 'smoker', 'region', 'charges'], dtype='object')"
      ]
     },
     "execution_count": 10,
     "metadata": {},
     "output_type": "execute_result"
    }
   ],
   "source": [
    "# Getting a glimpse at data's columns\n",
    "df.columns"
   ]
  },
  {
   "cell_type": "code",
   "execution_count": 11,
   "id": "2f715bb8",
   "metadata": {},
   "outputs": [],
   "source": [
    "# Importing of labelencoder to convert categorical data into numerical\n",
    "# data for analysis\n",
    "from sklearn.preprocessing import LabelEncoder"
   ]
  },
  {
   "cell_type": "code",
   "execution_count": 12,
   "id": "87442195",
   "metadata": {},
   "outputs": [],
   "source": [
    "# Creation of LabelEncoder objects for categorical data\n",
    "le_sex = LabelEncoder()\n",
    "le_smoker = LabelEncoder()\n",
    "le_region = LabelEncoder()"
   ]
  },
  {
   "cell_type": "code",
   "execution_count": 13,
   "id": "4a307156",
   "metadata": {},
   "outputs": [],
   "source": [
    "# Creation of a new dataframe to conserve old dataframe\n",
    "new_df = df"
   ]
  },
  {
   "cell_type": "code",
   "execution_count": 14,
   "id": "6787eb02",
   "metadata": {},
   "outputs": [],
   "source": [
    "# Addition of transformed categorical data into dataframe\n",
    "new_df['sex_n'] = le_sex.fit_transform(new_df['sex'])\n",
    "new_df['smoker_n'] = le_smoker.fit_transform(new_df['smoker'])\n",
    "new_df['region_n'] = le_region.fit_transform(new_df['region'])"
   ]
  },
  {
   "cell_type": "code",
   "execution_count": 15,
   "id": "3f371f63",
   "metadata": {
    "scrolled": true
   },
   "outputs": [
    {
     "data": {
      "text/html": [
       "<div>\n",
       "<style scoped>\n",
       "    .dataframe tbody tr th:only-of-type {\n",
       "        vertical-align: middle;\n",
       "    }\n",
       "\n",
       "    .dataframe tbody tr th {\n",
       "        vertical-align: top;\n",
       "    }\n",
       "\n",
       "    .dataframe thead th {\n",
       "        text-align: right;\n",
       "    }\n",
       "</style>\n",
       "<table border=\"1\" class=\"dataframe\">\n",
       "  <thead>\n",
       "    <tr style=\"text-align: right;\">\n",
       "      <th></th>\n",
       "      <th>age</th>\n",
       "      <th>sex</th>\n",
       "      <th>bmi</th>\n",
       "      <th>children</th>\n",
       "      <th>smoker</th>\n",
       "      <th>region</th>\n",
       "      <th>charges</th>\n",
       "      <th>sex_n</th>\n",
       "      <th>smoker_n</th>\n",
       "      <th>region_n</th>\n",
       "    </tr>\n",
       "  </thead>\n",
       "  <tbody>\n",
       "    <tr>\n",
       "      <th>0</th>\n",
       "      <td>19</td>\n",
       "      <td>female</td>\n",
       "      <td>27.900</td>\n",
       "      <td>0</td>\n",
       "      <td>yes</td>\n",
       "      <td>southwest</td>\n",
       "      <td>16884.92400</td>\n",
       "      <td>0</td>\n",
       "      <td>1</td>\n",
       "      <td>3</td>\n",
       "    </tr>\n",
       "    <tr>\n",
       "      <th>1</th>\n",
       "      <td>18</td>\n",
       "      <td>male</td>\n",
       "      <td>33.770</td>\n",
       "      <td>1</td>\n",
       "      <td>no</td>\n",
       "      <td>southeast</td>\n",
       "      <td>1725.55230</td>\n",
       "      <td>1</td>\n",
       "      <td>0</td>\n",
       "      <td>2</td>\n",
       "    </tr>\n",
       "    <tr>\n",
       "      <th>2</th>\n",
       "      <td>28</td>\n",
       "      <td>male</td>\n",
       "      <td>33.000</td>\n",
       "      <td>3</td>\n",
       "      <td>no</td>\n",
       "      <td>southeast</td>\n",
       "      <td>4449.46200</td>\n",
       "      <td>1</td>\n",
       "      <td>0</td>\n",
       "      <td>2</td>\n",
       "    </tr>\n",
       "    <tr>\n",
       "      <th>3</th>\n",
       "      <td>33</td>\n",
       "      <td>male</td>\n",
       "      <td>22.705</td>\n",
       "      <td>0</td>\n",
       "      <td>no</td>\n",
       "      <td>northwest</td>\n",
       "      <td>21984.47061</td>\n",
       "      <td>1</td>\n",
       "      <td>0</td>\n",
       "      <td>1</td>\n",
       "    </tr>\n",
       "    <tr>\n",
       "      <th>4</th>\n",
       "      <td>32</td>\n",
       "      <td>male</td>\n",
       "      <td>28.880</td>\n",
       "      <td>0</td>\n",
       "      <td>no</td>\n",
       "      <td>northwest</td>\n",
       "      <td>3866.85520</td>\n",
       "      <td>1</td>\n",
       "      <td>0</td>\n",
       "      <td>1</td>\n",
       "    </tr>\n",
       "    <tr>\n",
       "      <th>...</th>\n",
       "      <td>...</td>\n",
       "      <td>...</td>\n",
       "      <td>...</td>\n",
       "      <td>...</td>\n",
       "      <td>...</td>\n",
       "      <td>...</td>\n",
       "      <td>...</td>\n",
       "      <td>...</td>\n",
       "      <td>...</td>\n",
       "      <td>...</td>\n",
       "    </tr>\n",
       "    <tr>\n",
       "      <th>1333</th>\n",
       "      <td>50</td>\n",
       "      <td>male</td>\n",
       "      <td>30.970</td>\n",
       "      <td>3</td>\n",
       "      <td>no</td>\n",
       "      <td>northwest</td>\n",
       "      <td>10600.54830</td>\n",
       "      <td>1</td>\n",
       "      <td>0</td>\n",
       "      <td>1</td>\n",
       "    </tr>\n",
       "    <tr>\n",
       "      <th>1334</th>\n",
       "      <td>18</td>\n",
       "      <td>female</td>\n",
       "      <td>31.920</td>\n",
       "      <td>0</td>\n",
       "      <td>no</td>\n",
       "      <td>northeast</td>\n",
       "      <td>2205.98080</td>\n",
       "      <td>0</td>\n",
       "      <td>0</td>\n",
       "      <td>0</td>\n",
       "    </tr>\n",
       "    <tr>\n",
       "      <th>1335</th>\n",
       "      <td>18</td>\n",
       "      <td>female</td>\n",
       "      <td>36.850</td>\n",
       "      <td>0</td>\n",
       "      <td>no</td>\n",
       "      <td>southeast</td>\n",
       "      <td>1629.83350</td>\n",
       "      <td>0</td>\n",
       "      <td>0</td>\n",
       "      <td>2</td>\n",
       "    </tr>\n",
       "    <tr>\n",
       "      <th>1336</th>\n",
       "      <td>21</td>\n",
       "      <td>female</td>\n",
       "      <td>25.800</td>\n",
       "      <td>0</td>\n",
       "      <td>no</td>\n",
       "      <td>southwest</td>\n",
       "      <td>2007.94500</td>\n",
       "      <td>0</td>\n",
       "      <td>0</td>\n",
       "      <td>3</td>\n",
       "    </tr>\n",
       "    <tr>\n",
       "      <th>1337</th>\n",
       "      <td>61</td>\n",
       "      <td>female</td>\n",
       "      <td>29.070</td>\n",
       "      <td>0</td>\n",
       "      <td>yes</td>\n",
       "      <td>northwest</td>\n",
       "      <td>29141.36030</td>\n",
       "      <td>0</td>\n",
       "      <td>1</td>\n",
       "      <td>1</td>\n",
       "    </tr>\n",
       "  </tbody>\n",
       "</table>\n",
       "<p>1338 rows × 10 columns</p>\n",
       "</div>"
      ],
      "text/plain": [
       "      age     sex     bmi  children smoker     region      charges  sex_n  \\\n",
       "0      19  female  27.900         0    yes  southwest  16884.92400      0   \n",
       "1      18    male  33.770         1     no  southeast   1725.55230      1   \n",
       "2      28    male  33.000         3     no  southeast   4449.46200      1   \n",
       "3      33    male  22.705         0     no  northwest  21984.47061      1   \n",
       "4      32    male  28.880         0     no  northwest   3866.85520      1   \n",
       "...   ...     ...     ...       ...    ...        ...          ...    ...   \n",
       "1333   50    male  30.970         3     no  northwest  10600.54830      1   \n",
       "1334   18  female  31.920         0     no  northeast   2205.98080      0   \n",
       "1335   18  female  36.850         0     no  southeast   1629.83350      0   \n",
       "1336   21  female  25.800         0     no  southwest   2007.94500      0   \n",
       "1337   61  female  29.070         0    yes  northwest  29141.36030      0   \n",
       "\n",
       "      smoker_n  region_n  \n",
       "0            1         3  \n",
       "1            0         2  \n",
       "2            0         2  \n",
       "3            0         1  \n",
       "4            0         1  \n",
       "...        ...       ...  \n",
       "1333         0         1  \n",
       "1334         0         0  \n",
       "1335         0         2  \n",
       "1336         0         3  \n",
       "1337         1         1  \n",
       "\n",
       "[1338 rows x 10 columns]"
      ]
     },
     "execution_count": 15,
     "metadata": {},
     "output_type": "execute_result"
    }
   ],
   "source": [
    "new_df"
   ]
  },
  {
   "cell_type": "code",
   "execution_count": 16,
   "id": "b3525c66",
   "metadata": {},
   "outputs": [],
   "source": [
    "# Smoking: Yes = 1, No = 0\n",
    "# Sex: Male = 1, Female = 0\n",
    "# Region: Southwest = 3, Southeast = 2, Northwest = 1, Northeast = 0"
   ]
  },
  {
   "cell_type": "code",
   "execution_count": 17,
   "id": "db8bc28f",
   "metadata": {
    "scrolled": true
   },
   "outputs": [],
   "source": [
    "# Removal of categorical data columns\n",
    "df_final = new_df.drop(columns=['sex', 'smoker', 'region'])"
   ]
  },
  {
   "cell_type": "markdown",
   "id": "d633e14f",
   "metadata": {},
   "source": [
    "# Understanding What Our Data Consists Of "
   ]
  },
  {
   "cell_type": "code",
   "execution_count": 18,
   "id": "ff2a041e",
   "metadata": {},
   "outputs": [],
   "source": [
    "# Breakdown of sex into groups (males, females)\n",
    "gender = df.groupby('sex')"
   ]
  },
  {
   "cell_type": "code",
   "execution_count": 19,
   "id": "add14c53",
   "metadata": {},
   "outputs": [
    {
     "data": {
      "text/html": [
       "<div>\n",
       "<style scoped>\n",
       "    .dataframe tbody tr th:only-of-type {\n",
       "        vertical-align: middle;\n",
       "    }\n",
       "\n",
       "    .dataframe tbody tr th {\n",
       "        vertical-align: top;\n",
       "    }\n",
       "\n",
       "    .dataframe thead th {\n",
       "        text-align: right;\n",
       "    }\n",
       "</style>\n",
       "<table border=\"1\" class=\"dataframe\">\n",
       "  <thead>\n",
       "    <tr style=\"text-align: right;\">\n",
       "      <th></th>\n",
       "      <th>age</th>\n",
       "      <th>bmi</th>\n",
       "      <th>children</th>\n",
       "      <th>charges</th>\n",
       "      <th>sex_n</th>\n",
       "      <th>smoker_n</th>\n",
       "      <th>region_n</th>\n",
       "    </tr>\n",
       "    <tr>\n",
       "      <th>sex</th>\n",
       "      <th></th>\n",
       "      <th></th>\n",
       "      <th></th>\n",
       "      <th></th>\n",
       "      <th></th>\n",
       "      <th></th>\n",
       "      <th></th>\n",
       "    </tr>\n",
       "  </thead>\n",
       "  <tbody>\n",
       "    <tr>\n",
       "      <th>female</th>\n",
       "      <td>39.503021</td>\n",
       "      <td>30.377749</td>\n",
       "      <td>1.074018</td>\n",
       "      <td>12569.578844</td>\n",
       "      <td>0.0</td>\n",
       "      <td>0.173716</td>\n",
       "      <td>1.510574</td>\n",
       "    </tr>\n",
       "    <tr>\n",
       "      <th>male</th>\n",
       "      <td>38.917160</td>\n",
       "      <td>30.943129</td>\n",
       "      <td>1.115385</td>\n",
       "      <td>13956.751178</td>\n",
       "      <td>1.0</td>\n",
       "      <td>0.235207</td>\n",
       "      <td>1.520710</td>\n",
       "    </tr>\n",
       "  </tbody>\n",
       "</table>\n",
       "</div>"
      ],
      "text/plain": [
       "              age        bmi  children       charges  sex_n  smoker_n  \\\n",
       "sex                                                                     \n",
       "female  39.503021  30.377749  1.074018  12569.578844    0.0  0.173716   \n",
       "male    38.917160  30.943129  1.115385  13956.751178    1.0  0.235207   \n",
       "\n",
       "        region_n  \n",
       "sex               \n",
       "female  1.510574  \n",
       "male    1.520710  "
      ]
     },
     "execution_count": 19,
     "metadata": {},
     "output_type": "execute_result"
    }
   ],
   "source": [
    "# Getting averages for each group\n",
    "gender.mean()"
   ]
  },
  {
   "cell_type": "code",
   "execution_count": 20,
   "id": "02ed20fa",
   "metadata": {},
   "outputs": [
    {
     "data": {
      "text/plain": [
       "676"
      ]
     },
     "execution_count": 20,
     "metadata": {},
     "output_type": "execute_result"
    }
   ],
   "source": [
    "# Number of males\n",
    "len(df.loc[df['sex'] == 'male'])"
   ]
  },
  {
   "cell_type": "code",
   "execution_count": 21,
   "id": "c7f645fd",
   "metadata": {},
   "outputs": [
    {
     "data": {
      "text/plain": [
       "662"
      ]
     },
     "execution_count": 21,
     "metadata": {},
     "output_type": "execute_result"
    }
   ],
   "source": [
    "# Number of females\n",
    "len(df.loc[df['sex'] == 'female'])"
   ]
  },
  {
   "cell_type": "code",
   "execution_count": 22,
   "id": "1258d39d",
   "metadata": {},
   "outputs": [],
   "source": [
    "# Grouping data by region\n",
    "regions = df.groupby('region')"
   ]
  },
  {
   "cell_type": "code",
   "execution_count": 23,
   "id": "15f4fde2",
   "metadata": {},
   "outputs": [
    {
     "data": {
      "text/html": [
       "<div>\n",
       "<style scoped>\n",
       "    .dataframe tbody tr th:only-of-type {\n",
       "        vertical-align: middle;\n",
       "    }\n",
       "\n",
       "    .dataframe tbody tr th {\n",
       "        vertical-align: top;\n",
       "    }\n",
       "\n",
       "    .dataframe thead th {\n",
       "        text-align: right;\n",
       "    }\n",
       "</style>\n",
       "<table border=\"1\" class=\"dataframe\">\n",
       "  <thead>\n",
       "    <tr style=\"text-align: right;\">\n",
       "      <th></th>\n",
       "      <th>age</th>\n",
       "      <th>bmi</th>\n",
       "      <th>children</th>\n",
       "      <th>charges</th>\n",
       "      <th>sex_n</th>\n",
       "      <th>smoker_n</th>\n",
       "      <th>region_n</th>\n",
       "    </tr>\n",
       "    <tr>\n",
       "      <th>region</th>\n",
       "      <th></th>\n",
       "      <th></th>\n",
       "      <th></th>\n",
       "      <th></th>\n",
       "      <th></th>\n",
       "      <th></th>\n",
       "      <th></th>\n",
       "    </tr>\n",
       "  </thead>\n",
       "  <tbody>\n",
       "    <tr>\n",
       "      <th>northeast</th>\n",
       "      <td>39.268519</td>\n",
       "      <td>29.173503</td>\n",
       "      <td>1.046296</td>\n",
       "      <td>13406.384516</td>\n",
       "      <td>0.503086</td>\n",
       "      <td>0.206790</td>\n",
       "      <td>0.0</td>\n",
       "    </tr>\n",
       "    <tr>\n",
       "      <th>northwest</th>\n",
       "      <td>39.196923</td>\n",
       "      <td>29.199785</td>\n",
       "      <td>1.147692</td>\n",
       "      <td>12417.575374</td>\n",
       "      <td>0.495385</td>\n",
       "      <td>0.178462</td>\n",
       "      <td>1.0</td>\n",
       "    </tr>\n",
       "    <tr>\n",
       "      <th>southeast</th>\n",
       "      <td>38.939560</td>\n",
       "      <td>33.355989</td>\n",
       "      <td>1.049451</td>\n",
       "      <td>14735.411438</td>\n",
       "      <td>0.519231</td>\n",
       "      <td>0.250000</td>\n",
       "      <td>2.0</td>\n",
       "    </tr>\n",
       "    <tr>\n",
       "      <th>southwest</th>\n",
       "      <td>39.455385</td>\n",
       "      <td>30.596615</td>\n",
       "      <td>1.141538</td>\n",
       "      <td>12346.937377</td>\n",
       "      <td>0.501538</td>\n",
       "      <td>0.178462</td>\n",
       "      <td>3.0</td>\n",
       "    </tr>\n",
       "  </tbody>\n",
       "</table>\n",
       "</div>"
      ],
      "text/plain": [
       "                 age        bmi  children       charges     sex_n  smoker_n  \\\n",
       "region                                                                        \n",
       "northeast  39.268519  29.173503  1.046296  13406.384516  0.503086  0.206790   \n",
       "northwest  39.196923  29.199785  1.147692  12417.575374  0.495385  0.178462   \n",
       "southeast  38.939560  33.355989  1.049451  14735.411438  0.519231  0.250000   \n",
       "southwest  39.455385  30.596615  1.141538  12346.937377  0.501538  0.178462   \n",
       "\n",
       "           region_n  \n",
       "region               \n",
       "northeast       0.0  \n",
       "northwest       1.0  \n",
       "southeast       2.0  \n",
       "southwest       3.0  "
      ]
     },
     "execution_count": 23,
     "metadata": {},
     "output_type": "execute_result"
    }
   ],
   "source": [
    "# Obtaining means based off regions\n",
    "regions.mean()"
   ]
  },
  {
   "cell_type": "code",
   "execution_count": 24,
   "id": "7f510155",
   "metadata": {},
   "outputs": [
    {
     "data": {
      "text/html": [
       "<div>\n",
       "<style scoped>\n",
       "    .dataframe tbody tr th:only-of-type {\n",
       "        vertical-align: middle;\n",
       "    }\n",
       "\n",
       "    .dataframe tbody tr th {\n",
       "        vertical-align: top;\n",
       "    }\n",
       "\n",
       "    .dataframe thead th {\n",
       "        text-align: right;\n",
       "    }\n",
       "</style>\n",
       "<table border=\"1\" class=\"dataframe\">\n",
       "  <thead>\n",
       "    <tr style=\"text-align: right;\">\n",
       "      <th></th>\n",
       "      <th>age</th>\n",
       "      <th>sex</th>\n",
       "      <th>bmi</th>\n",
       "      <th>children</th>\n",
       "      <th>smoker</th>\n",
       "      <th>charges</th>\n",
       "      <th>sex_n</th>\n",
       "      <th>smoker_n</th>\n",
       "      <th>region_n</th>\n",
       "    </tr>\n",
       "    <tr>\n",
       "      <th>region</th>\n",
       "      <th></th>\n",
       "      <th></th>\n",
       "      <th></th>\n",
       "      <th></th>\n",
       "      <th></th>\n",
       "      <th></th>\n",
       "      <th></th>\n",
       "      <th></th>\n",
       "      <th></th>\n",
       "    </tr>\n",
       "  </thead>\n",
       "  <tbody>\n",
       "    <tr>\n",
       "      <th>northeast</th>\n",
       "      <td>64</td>\n",
       "      <td>male</td>\n",
       "      <td>48.07</td>\n",
       "      <td>5</td>\n",
       "      <td>yes</td>\n",
       "      <td>58571.07448</td>\n",
       "      <td>1</td>\n",
       "      <td>1</td>\n",
       "      <td>0</td>\n",
       "    </tr>\n",
       "    <tr>\n",
       "      <th>northwest</th>\n",
       "      <td>64</td>\n",
       "      <td>male</td>\n",
       "      <td>42.94</td>\n",
       "      <td>5</td>\n",
       "      <td>yes</td>\n",
       "      <td>60021.39897</td>\n",
       "      <td>1</td>\n",
       "      <td>1</td>\n",
       "      <td>1</td>\n",
       "    </tr>\n",
       "    <tr>\n",
       "      <th>southeast</th>\n",
       "      <td>64</td>\n",
       "      <td>male</td>\n",
       "      <td>53.13</td>\n",
       "      <td>5</td>\n",
       "      <td>yes</td>\n",
       "      <td>63770.42801</td>\n",
       "      <td>1</td>\n",
       "      <td>1</td>\n",
       "      <td>2</td>\n",
       "    </tr>\n",
       "    <tr>\n",
       "      <th>southwest</th>\n",
       "      <td>64</td>\n",
       "      <td>male</td>\n",
       "      <td>47.60</td>\n",
       "      <td>5</td>\n",
       "      <td>yes</td>\n",
       "      <td>52590.82939</td>\n",
       "      <td>1</td>\n",
       "      <td>1</td>\n",
       "      <td>3</td>\n",
       "    </tr>\n",
       "  </tbody>\n",
       "</table>\n",
       "</div>"
      ],
      "text/plain": [
       "           age   sex    bmi  children smoker      charges  sex_n  smoker_n  \\\n",
       "region                                                                       \n",
       "northeast   64  male  48.07         5    yes  58571.07448      1         1   \n",
       "northwest   64  male  42.94         5    yes  60021.39897      1         1   \n",
       "southeast   64  male  53.13         5    yes  63770.42801      1         1   \n",
       "southwest   64  male  47.60         5    yes  52590.82939      1         1   \n",
       "\n",
       "           region_n  \n",
       "region               \n",
       "northeast         0  \n",
       "northwest         1  \n",
       "southeast         2  \n",
       "southwest         3  "
      ]
     },
     "execution_count": 24,
     "metadata": {},
     "output_type": "execute_result"
    }
   ],
   "source": [
    "# Obtaining max values based off regions\n",
    "regions.max()"
   ]
  },
  {
   "cell_type": "code",
   "execution_count": 25,
   "id": "6553335d",
   "metadata": {},
   "outputs": [
    {
     "data": {
      "text/html": [
       "<div>\n",
       "<style scoped>\n",
       "    .dataframe tbody tr th:only-of-type {\n",
       "        vertical-align: middle;\n",
       "    }\n",
       "\n",
       "    .dataframe tbody tr th {\n",
       "        vertical-align: top;\n",
       "    }\n",
       "\n",
       "    .dataframe thead th {\n",
       "        text-align: right;\n",
       "    }\n",
       "</style>\n",
       "<table border=\"1\" class=\"dataframe\">\n",
       "  <thead>\n",
       "    <tr style=\"text-align: right;\">\n",
       "      <th></th>\n",
       "      <th>age</th>\n",
       "      <th>sex</th>\n",
       "      <th>bmi</th>\n",
       "      <th>children</th>\n",
       "      <th>smoker</th>\n",
       "      <th>charges</th>\n",
       "      <th>sex_n</th>\n",
       "      <th>smoker_n</th>\n",
       "      <th>region_n</th>\n",
       "    </tr>\n",
       "    <tr>\n",
       "      <th>region</th>\n",
       "      <th></th>\n",
       "      <th></th>\n",
       "      <th></th>\n",
       "      <th></th>\n",
       "      <th></th>\n",
       "      <th></th>\n",
       "      <th></th>\n",
       "      <th></th>\n",
       "      <th></th>\n",
       "    </tr>\n",
       "  </thead>\n",
       "  <tbody>\n",
       "    <tr>\n",
       "      <th>northeast</th>\n",
       "      <td>18</td>\n",
       "      <td>female</td>\n",
       "      <td>15.960</td>\n",
       "      <td>0</td>\n",
       "      <td>no</td>\n",
       "      <td>1694.7964</td>\n",
       "      <td>0</td>\n",
       "      <td>0</td>\n",
       "      <td>0</td>\n",
       "    </tr>\n",
       "    <tr>\n",
       "      <th>northwest</th>\n",
       "      <td>19</td>\n",
       "      <td>female</td>\n",
       "      <td>17.385</td>\n",
       "      <td>0</td>\n",
       "      <td>no</td>\n",
       "      <td>1621.3402</td>\n",
       "      <td>0</td>\n",
       "      <td>0</td>\n",
       "      <td>1</td>\n",
       "    </tr>\n",
       "    <tr>\n",
       "      <th>southeast</th>\n",
       "      <td>18</td>\n",
       "      <td>female</td>\n",
       "      <td>19.800</td>\n",
       "      <td>0</td>\n",
       "      <td>no</td>\n",
       "      <td>1121.8739</td>\n",
       "      <td>0</td>\n",
       "      <td>0</td>\n",
       "      <td>2</td>\n",
       "    </tr>\n",
       "    <tr>\n",
       "      <th>southwest</th>\n",
       "      <td>19</td>\n",
       "      <td>female</td>\n",
       "      <td>17.400</td>\n",
       "      <td>0</td>\n",
       "      <td>no</td>\n",
       "      <td>1241.5650</td>\n",
       "      <td>0</td>\n",
       "      <td>0</td>\n",
       "      <td>3</td>\n",
       "    </tr>\n",
       "  </tbody>\n",
       "</table>\n",
       "</div>"
      ],
      "text/plain": [
       "           age     sex     bmi  children smoker    charges  sex_n  smoker_n  \\\n",
       "region                                                                        \n",
       "northeast   18  female  15.960         0     no  1694.7964      0         0   \n",
       "northwest   19  female  17.385         0     no  1621.3402      0         0   \n",
       "southeast   18  female  19.800         0     no  1121.8739      0         0   \n",
       "southwest   19  female  17.400         0     no  1241.5650      0         0   \n",
       "\n",
       "           region_n  \n",
       "region               \n",
       "northeast         0  \n",
       "northwest         1  \n",
       "southeast         2  \n",
       "southwest         3  "
      ]
     },
     "execution_count": 25,
     "metadata": {},
     "output_type": "execute_result"
    }
   ],
   "source": [
    "# Obtaining min values based off regions\n",
    "regions.min()"
   ]
  },
  {
   "cell_type": "code",
   "execution_count": 26,
   "id": "91b33860",
   "metadata": {},
   "outputs": [
    {
     "data": {
      "text/plain": [
       "324"
      ]
     },
     "execution_count": 26,
     "metadata": {},
     "output_type": "execute_result"
    }
   ],
   "source": [
    "# Number of clients from NORTHEAST region\n",
    "len(df.loc[df['region'] == 'northeast'])"
   ]
  },
  {
   "cell_type": "code",
   "execution_count": 27,
   "id": "fe6404d5",
   "metadata": {},
   "outputs": [
    {
     "data": {
      "text/plain": [
       "325"
      ]
     },
     "execution_count": 27,
     "metadata": {},
     "output_type": "execute_result"
    }
   ],
   "source": [
    "# Number of clients from NORTHWEST region\n",
    "len(df.loc[df['region'] == 'northwest'])"
   ]
  },
  {
   "cell_type": "code",
   "execution_count": 28,
   "id": "e8d986b7",
   "metadata": {},
   "outputs": [
    {
     "data": {
      "text/plain": [
       "364"
      ]
     },
     "execution_count": 28,
     "metadata": {},
     "output_type": "execute_result"
    }
   ],
   "source": [
    "# Number of clients from SOUTHEAST region\n",
    "len(df.loc[df['region'] == 'southeast'])"
   ]
  },
  {
   "cell_type": "code",
   "execution_count": 29,
   "id": "80fdce7a",
   "metadata": {},
   "outputs": [
    {
     "data": {
      "text/plain": [
       "325"
      ]
     },
     "execution_count": 29,
     "metadata": {},
     "output_type": "execute_result"
    }
   ],
   "source": [
    "# Number of clients from SOUTHWEST region\n",
    "len(df.loc[df['region'] == 'southwest'])"
   ]
  },
  {
   "cell_type": "markdown",
   "id": "3033e13a",
   "metadata": {},
   "source": [
    "# Visualization of Data"
   ]
  },
  {
   "cell_type": "code",
   "execution_count": 46,
   "id": "9c168343",
   "metadata": {},
   "outputs": [
    {
     "data": {
      "text/plain": [
       "<matplotlib.collections.PathCollection at 0x17ee3f940>"
      ]
     },
     "execution_count": 46,
     "metadata": {},
     "output_type": "execute_result"
    },
    {
     "data": {
      "image/png": "[encoded data removed]",
      "text/plain": [
       "<Figure size 432x288 with 1 Axes>"
      ]
     },
     "metadata": {
      "needs_background": "light"
     },
     "output_type": "display_data"
    }
   ],
   "source": [
    "# Plotting Age against Charges\n",
    "plt.xlabel('Age')\n",
    "plt.ylabel('Charges')\n",
    "plt.scatter(x.age, x.charges, color='blue', marker='+')"
   ]
  },
  {
   "cell_type": "code",
   "execution_count": 48,
   "id": "c107aded",
   "metadata": {},
   "outputs": [
    {
     "data": {
      "text/plain": [
       "<matplotlib.collections.PathCollection at 0x17ef63ac0>"
      ]
     },
     "execution_count": 48,
     "metadata": {},
     "output_type": "execute_result"
    },
    {
     "data": {
      "image/png": "[encoded data removed]",
      "text/plain": [
       "<Figure size 432x288 with 1 Axes>"
      ]
     },
     "metadata": {
      "needs_background": "light"
     },
     "output_type": "display_data"
    }
   ],
   "source": [
    "# Plotting BMI against Charges\n",
    "plt.xlabel('BMI')\n",
    "plt.ylabel('Charges')\n",
    "plt.scatter(x.bmi, x.charges, color='red', marker='+')"
   ]
  },
  {
   "cell_type": "code",
   "execution_count": 49,
   "id": "cf53b0cc",
   "metadata": {},
   "outputs": [
    {
     "data": {
      "text/plain": [
       "<matplotlib.collections.PathCollection at 0x17ef61d20>"
      ]
     },
     "execution_count": 49,
     "metadata": {},
     "output_type": "execute_result"
    },
    {
     "data": {
      "image/png": "[encoded data removed]",
      "text/plain": [
       "<Figure size 432x288 with 1 Axes>"
      ]
     },
     "metadata": {
      "needs_background": "light"
     },
     "output_type": "display_data"
    }
   ],
   "source": [
    "# Plotting Region against Charges\n",
    "plt.scatter(x.region_n, x.charges, color='green', marker='+')"
   ]
  },
  {
   "cell_type": "code",
   "execution_count": 52,
   "id": "6eb9cd11",
   "metadata": {},
   "outputs": [
    {
     "data": {
      "text/plain": [
       "<matplotlib.collections.PathCollection at 0x17ef3e4a0>"
      ]
     },
     "execution_count": 52,
     "metadata": {},
     "output_type": "execute_result"
    },
    {
     "data": {
      "image/png": "[encoded data removed]",
      "text/plain": [
       "<Figure size 432x288 with 1 Axes>"
      ]
     },
     "metadata": {
      "needs_background": "light"
     },
     "output_type": "display_data"
    }
   ],
   "source": [
    "# Plotting Children against Charges\n",
    "plt.xlabel('Number of Children')\n",
    "plt.ylabel('Charges')\n",
    "plt.scatter(x.children, x.charges, color='black', marker='+')"
   ]
  },
  {
   "cell_type": "code",
   "execution_count": 54,
   "id": "e91d4de6",
   "metadata": {},
   "outputs": [
    {
     "data": {
      "text/plain": [
       "<matplotlib.collections.PathCollection at 0x17ef27310>"
      ]
     },
     "execution_count": 54,
     "metadata": {},
     "output_type": "execute_result"
    },
    {
     "data": {
      "image/png": "[encoded data removed]",
      "text/plain": [
       "<Figure size 432x288 with 1 Axes>"
      ]
     },
     "metadata": {
      "needs_background": "light"
     },
     "output_type": "display_data"
    }
   ],
   "source": [
    "# Plotting Gender against Charges\n",
    "plt.xlabel('Sex')\n",
    "plt.ylabel('Charges')\n",
    "plt.scatter(x.sex_n, x.charges, color='blue', marker='+')"
   ]
  },
  {
   "cell_type": "markdown",
   "id": "b6aa0d7c",
   "metadata": {},
   "source": [
    "# Multi-Variate Regression Analysis"
   ]
  },
  {
   "cell_type": "code",
   "execution_count": 30,
   "id": "04de9a75",
   "metadata": {},
   "outputs": [],
   "source": [
    "x = df_final\n",
    "y = df.charges"
   ]
  },
  {
   "cell_type": "code",
   "execution_count": 31,
   "id": "4fa335fb",
   "metadata": {},
   "outputs": [],
   "source": [
    "from sklearn.model_selection import train_test_split\n",
    "\n",
    "x_train, x_test, y_train, y_test = train_test_split(x, y, test_size=0.2, random_state=30)"
   ]
  },
  {
   "cell_type": "code",
   "execution_count": 32,
   "id": "e80d3858",
   "metadata": {},
   "outputs": [
    {
     "data": {
      "text/plain": [
       "LinearRegression()"
      ]
     },
     "execution_count": 32,
     "metadata": {},
     "output_type": "execute_result"
    }
   ],
   "source": [
    "from sklearn import linear_model\n",
    "\n",
    "model = linear_model.LinearRegression()\n",
    "model.fit(x[['age', 'bmi', 'region_n', 'smoker_n', 'children', 'sex_n']], x.charges)"
   ]
  },
  {
   "cell_type": "code",
   "execution_count": 33,
   "id": "08996f42",
   "metadata": {},
   "outputs": [
    {
     "name": "stderr",
     "output_type": "stream",
     "text": [
      "/Library/Frameworks/Python.framework/Versions/3.10/lib/python3.10/site-packages/sklearn/base.py:450: UserWarning: X does not have valid feature names, but LinearRegression was fitted with feature names\n",
      "  warnings.warn(\n"
     ]
    },
    {
     "data": {
      "text/plain": [
       "array([5456.36263359])"
      ]
     },
     "execution_count": 33,
     "metadata": {},
     "output_type": "execute_result"
    }
   ],
   "source": [
    "model.predict([[35, 27, 3, 0, 1, 1]])"
   ]
  },
  {
   "cell_type": "code",
   "execution_count": 34,
   "id": "692aceb3",
   "metadata": {
    "scrolled": true
   },
   "outputs": [
    {
     "data": {
      "text/html": [
       "<div>\n",
       "<style scoped>\n",
       "    .dataframe tbody tr th:only-of-type {\n",
       "        vertical-align: middle;\n",
       "    }\n",
       "\n",
       "    .dataframe tbody tr th {\n",
       "        vertical-align: top;\n",
       "    }\n",
       "\n",
       "    .dataframe thead th {\n",
       "        text-align: right;\n",
       "    }\n",
       "</style>\n",
       "<table border=\"1\" class=\"dataframe\">\n",
       "  <thead>\n",
       "    <tr style=\"text-align: right;\">\n",
       "      <th></th>\n",
       "      <th>age</th>\n",
       "      <th>bmi</th>\n",
       "      <th>children</th>\n",
       "      <th>charges</th>\n",
       "      <th>sex_n</th>\n",
       "      <th>smoker_n</th>\n",
       "      <th>region_n</th>\n",
       "    </tr>\n",
       "  </thead>\n",
       "  <tbody>\n",
       "    <tr>\n",
       "      <th>338</th>\n",
       "      <td>50</td>\n",
       "      <td>32.300</td>\n",
       "      <td>1</td>\n",
       "      <td>41919.09700</td>\n",
       "      <td>1</td>\n",
       "      <td>1</td>\n",
       "      <td>0</td>\n",
       "    </tr>\n",
       "    <tr>\n",
       "      <th>620</th>\n",
       "      <td>30</td>\n",
       "      <td>31.400</td>\n",
       "      <td>1</td>\n",
       "      <td>3659.34600</td>\n",
       "      <td>1</td>\n",
       "      <td>0</td>\n",
       "      <td>3</td>\n",
       "    </tr>\n",
       "    <tr>\n",
       "      <th>965</th>\n",
       "      <td>35</td>\n",
       "      <td>27.100</td>\n",
       "      <td>1</td>\n",
       "      <td>4746.34400</td>\n",
       "      <td>1</td>\n",
       "      <td>0</td>\n",
       "      <td>3</td>\n",
       "    </tr>\n",
       "    <tr>\n",
       "      <th>128</th>\n",
       "      <td>32</td>\n",
       "      <td>17.765</td>\n",
       "      <td>2</td>\n",
       "      <td>32734.18630</td>\n",
       "      <td>0</td>\n",
       "      <td>1</td>\n",
       "      <td>1</td>\n",
       "    </tr>\n",
       "    <tr>\n",
       "      <th>329</th>\n",
       "      <td>52</td>\n",
       "      <td>36.700</td>\n",
       "      <td>0</td>\n",
       "      <td>9144.56500</td>\n",
       "      <td>1</td>\n",
       "      <td>0</td>\n",
       "      <td>3</td>\n",
       "    </tr>\n",
       "    <tr>\n",
       "      <th>...</th>\n",
       "      <td>...</td>\n",
       "      <td>...</td>\n",
       "      <td>...</td>\n",
       "      <td>...</td>\n",
       "      <td>...</td>\n",
       "      <td>...</td>\n",
       "      <td>...</td>\n",
       "    </tr>\n",
       "    <tr>\n",
       "      <th>580</th>\n",
       "      <td>59</td>\n",
       "      <td>25.460</td>\n",
       "      <td>1</td>\n",
       "      <td>12913.99240</td>\n",
       "      <td>1</td>\n",
       "      <td>0</td>\n",
       "      <td>0</td>\n",
       "    </tr>\n",
       "    <tr>\n",
       "      <th>786</th>\n",
       "      <td>60</td>\n",
       "      <td>36.955</td>\n",
       "      <td>0</td>\n",
       "      <td>12741.16745</td>\n",
       "      <td>1</td>\n",
       "      <td>0</td>\n",
       "      <td>0</td>\n",
       "    </tr>\n",
       "    <tr>\n",
       "      <th>321</th>\n",
       "      <td>26</td>\n",
       "      <td>29.640</td>\n",
       "      <td>4</td>\n",
       "      <td>24671.66334</td>\n",
       "      <td>0</td>\n",
       "      <td>0</td>\n",
       "      <td>0</td>\n",
       "    </tr>\n",
       "    <tr>\n",
       "      <th>903</th>\n",
       "      <td>49</td>\n",
       "      <td>36.850</td>\n",
       "      <td>0</td>\n",
       "      <td>8125.78450</td>\n",
       "      <td>1</td>\n",
       "      <td>0</td>\n",
       "      <td>2</td>\n",
       "    </tr>\n",
       "    <tr>\n",
       "      <th>613</th>\n",
       "      <td>34</td>\n",
       "      <td>19.000</td>\n",
       "      <td>3</td>\n",
       "      <td>6753.03800</td>\n",
       "      <td>0</td>\n",
       "      <td>0</td>\n",
       "      <td>0</td>\n",
       "    </tr>\n",
       "  </tbody>\n",
       "</table>\n",
       "<p>268 rows × 7 columns</p>\n",
       "</div>"
      ],
      "text/plain": [
       "     age     bmi  children      charges  sex_n  smoker_n  region_n\n",
       "338   50  32.300         1  41919.09700      1         1         0\n",
       "620   30  31.400         1   3659.34600      1         0         3\n",
       "965   35  27.100         1   4746.34400      1         0         3\n",
       "128   32  17.765         2  32734.18630      0         1         1\n",
       "329   52  36.700         0   9144.56500      1         0         3\n",
       "..   ...     ...       ...          ...    ...       ...       ...\n",
       "580   59  25.460         1  12913.99240      1         0         0\n",
       "786   60  36.955         0  12741.16745      1         0         0\n",
       "321   26  29.640         4  24671.66334      0         0         0\n",
       "903   49  36.850         0   8125.78450      1         0         2\n",
       "613   34  19.000         3   6753.03800      0         0         0\n",
       "\n",
       "[268 rows x 7 columns]"
      ]
     },
     "execution_count": 34,
     "metadata": {},
     "output_type": "execute_result"
    }
   ],
   "source": [
    "x_test"
   ]
  },
  {
   "cell_type": "code",
   "execution_count": 35,
   "id": "89a1aa9b",
   "metadata": {},
   "outputs": [
    {
     "data": {
      "text/plain": [
       "0.7507372027994939"
      ]
     },
     "execution_count": 35,
     "metadata": {},
     "output_type": "execute_result"
    }
   ],
   "source": [
    "model.score(x[['age', 'bmi', 'region_n', 'smoker_n', 'children', 'sex_n']], x.charges)"
   ]
  }
 ],
 "metadata": {
  "kernelspec": {
   "display_name": "Python 3 (ipykernel)",
   "language": "python",
   "name": "python3"
  },
  "language_info": {
   "codemirror_mode": {
    "name": "ipython",
    "version": 3
   },
   "file_extension": ".py",
   "mimetype": "text/x-python",
   "name": "python",
   "nbconvert_exporter": "python",
   "pygments_lexer": "ipython3",
   "version": "3.10.4"
  }
 },
 "nbformat": 4,
 "nbformat_minor": 5
}
